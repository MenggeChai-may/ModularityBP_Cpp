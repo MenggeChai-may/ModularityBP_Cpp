{
 "cells": [
  {
   "cell_type": "markdown",
   "metadata": {
    "toc": true
   },
   "source": [
    "<h1>Table of Contents<span class=\"tocSkip\"></span></h1>\n",
    "<div class=\"toc\"><ul class=\"toc-item\"></ul></div>"
   ]
  },
  {
   "cell_type": "code",
   "execution_count": 40,
   "metadata": {
    "ExecuteTime": {
     "end_time": "2020-04-09T21:32:09.880548Z",
     "start_time": "2020-04-09T21:32:09.875004Z"
    }
   },
   "outputs": [],
   "source": [
    "import numpy as np\n",
    "import modbp \n",
    "import os,sys,re\n",
    "import matplotlib.pyplot as plt\n",
    "import seaborn as sbn\n",
    "import pandas as pd\n",
    "from time import time\n",
    "sys.path.append(os.path.abspath('.'))\n",
    "from create_multiplex_functions import call_gen_louvain\n",
    "graphics_dir=\"/Users/whweir/Documents/UNC_SOM_docs/Mucha_Lab/Mucha_Python/ModBP_gh/multimodbp_manuscript/graphics/\"\n"
   ]
  },
  {
   "cell_type": "code",
   "execution_count": null,
   "metadata": {
    "ExecuteTime": {
     "start_time": "2020-04-09T21:39:33.987Z"
    }
   },
   "outputs": [
    {
     "name": "stdout",
     "output_type": "stream",
     "text": [
      "b''\n",
      "b''\n",
      "b''\n",
      "b''\n"
     ]
    }
   ],
   "source": [
    "ntrials=10\n",
    "\n",
    "#we scale the number of edges proportionally\n",
    "sizes=[100,200,400,800,1600,3200,6400]\n",
    "\n",
    "time_df=pd.DataFrame()\n",
    "\n",
    "for i,s in enumerate(sizes):\n",
    "    for ntrial in range(ntrials):\n",
    "        csbm=modbp.generate_planted_partitions_dynamic_sbm(n=s,nlayers=5,c=10,eta=.1,\n",
    "                                                      ncoms=2,epsilon=.1)\n",
    "        t=time()\n",
    "        bpobj=modbp.ModularityBP(csbm,align_communities_across_layers_temporal=True)\n",
    "        bstar=bpobj.get_bstar(q=2)\n",
    "        bpobj.run_modbp(q=2,beta=bstar,resgamma=1.0,omega=1.0)\n",
    "        tfin=time()-t\n",
    "        cind=time_df.shape[0]\n",
    "        \n",
    "        t=time()\n",
    "        S=call_gen_louvain(csbm,gamma=1.0,omega=1.0)\n",
    "        tgenlouvain=time()-t\n",
    "        \n",
    "        time_df.loc[cind,'s']=s\n",
    "        time_df.loc[cind,'ntrial']=ntrial\n",
    "        time_df.loc[cind,'time_modbp']=tfin\n",
    "        time_df.loc[cind,'time_genlouvain']=tgenlouvain\n",
    "        time_df.loc[cind,'AMI_layer_avg_modbp']=bpobj.retrieval_modularities.iloc[-1,:]['AMI_layer_avg']\n",
    "        time_df.loc[cind,'AMI_layer_avg_genlouvain']=csbm.get_AMI_layer_avg_with_communities(S)\n"
   ]
  },
  {
   "cell_type": "code",
   "execution_count": 52,
   "metadata": {
    "ExecuteTime": {
     "end_time": "2020-04-09T21:39:22.362720Z",
     "start_time": "2020-04-09T21:39:22.013851Z"
    }
   },
   "outputs": [
    {
     "data": {
      "image/png": "[encoded data removed]",
      "text/plain": [
       "<Figure size 432x432 with 1 Axes>"
      ]
     },
     "metadata": {
      "needs_background": "light"
     },
     "output_type": "display_data"
    }
   ],
   "source": [
    "outfile=os.path.join(graphics_dir,\"time_trial_vs_genlouvain.png\")\n",
    "times_modbp_mean=time_df.groupby('s')['time_modbp'].mean()\n",
    "times_modbp_std=time_df.groupby('s')['time_modbp'].std()\n",
    "\n",
    "times_gl_mean=time_df.groupby('s')['time_genlouvain'].mean()\n",
    "times_gl_std=time_df.groupby('s')['time_genlouvain'].std()\n",
    "\n",
    "plt.close()\n",
    "f,a=plt.subplots(1,1,figsize=(6,6))\n",
    "a.errorbar(x=times_modbp_mean.index,y=times_modbp_mean.values,yerr=times_modbp_std,color='b',\n",
    "           label='multimodbp')\n",
    "a.errorbar(x=times_gl_mean.index,y=times_gl_mean.values,yerr=times_gl_std,color='r',\n",
    "          label='GenLouvain')\n",
    "a.set_ylabel(\"time for 1 run\",fontsize=14)\n",
    "a.set_xlabel(\"size of network\",fontsize=14)\n",
    "a.set_title(\"Time trial: Multimodbp vs GenLouvain on DSBM model\")\n",
    "\n",
    "a.legend()\n",
    "f.subplots_adjust(top=.98,bottom=.05,right=.99,left=.07)\n",
    "plt.show()\n"
   ]
  },
  {
   "cell_type": "code",
   "execution_count": 45,
   "metadata": {
    "ExecuteTime": {
     "end_time": "2020-04-09T21:33:46.472863Z",
     "start_time": "2020-04-09T21:33:46.466975Z"
    }
   },
   "outputs": [
    {
     "data": {
      "text/plain": [
       "s\n",
       "100.0   NaN\n",
       "200.0   NaN\n",
       "400.0   NaN\n",
       "800.0   NaN\n",
       "Name: time_modbp, dtype: float64"
      ]
     },
     "execution_count": 45,
     "metadata": {},
     "output_type": "execute_result"
    }
   ],
   "source": [
    "times_modbp_mean"
   ]
  },
  {
   "cell_type": "code",
   "execution_count": null,
   "metadata": {},
   "outputs": [],
   "source": [
    "a.errorbar"
   ]
  }
 ],
 "metadata": {
  "kernelspec": {
   "display_name": "Python 3",
   "language": "python",
   "name": "python3"
  },
  "language_info": {
   "codemirror_mode": {
    "name": "ipython",
    "version": 3
   },
   "file_extension": ".py",
   "mimetype": "text/x-python",
   "name": "python",
   "nbconvert_exporter": "python",
   "pygments_lexer": "ipython3",
   "version": "3.6.8"
  },
  "latex_envs": {
   "LaTeX_envs_menu_present": true,
   "autoclose": false,
   "autocomplete": false,
   "bibliofile": "biblio.bib",
   "cite_by": "apalike",
   "current_citInitial": 1,
   "eqLabelWithNumbers": true,
   "eqNumInitial": 1,
   "hotkeys": {
    "equation": ""
   },
   "labels_anchors": false,
   "latex_user_defs": false,
   "report_style_numbering": false,
   "user_envs_cfg": false
  },
  "toc": {
   "base_numbering": 1,
   "nav_menu": {},
   "number_sections": true,
   "sideBar": true,
   "skip_h1_title": false,
   "title_cell": "Table of Contents",
   "title_sidebar": "Contents",
   "toc_cell": true,
   "toc_position": {},
   "toc_section_display": true,
   "toc_window_display": true
  }
 },
 "nbformat": 4,
 "nbformat_minor": 4
}
